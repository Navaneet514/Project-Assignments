{
 "cells": [
  {
   "cell_type": "code",
   "execution_count": 3,
   "id": "ebe21a00",
   "metadata": {},
   "outputs": [
    {
     "name": "stdout",
     "output_type": "stream",
     "text": [
      "904.7786842338603\n"
     ]
    }
   ],
   "source": [
    "#volume = 4/3 * pi * (r ** 3) \n",
    "#diameter = 12 cm\n",
    "\n",
    "import math\n",
    "d = 12\n",
    "vol = (4/3) * (math.pi) * ((d/2) ** 3)\n",
    "print(vol)"
   ]
  },
  {
   "cell_type": "code",
   "execution_count": null,
   "id": "26b0fdc1",
   "metadata": {},
   "outputs": [],
   "source": []
  }
 ],
 "metadata": {
  "kernelspec": {
   "display_name": "Python 3",
   "language": "python",
   "name": "python3"
  },
  "language_info": {
   "codemirror_mode": {
    "name": "ipython",
    "version": 3
   },
   "file_extension": ".py",
   "mimetype": "text/x-python",
   "name": "python",
   "nbconvert_exporter": "python",
   "pygments_lexer": "ipython3",
   "version": "3.8.8"
  }
 },
 "nbformat": 4,
 "nbformat_minor": 5
}
