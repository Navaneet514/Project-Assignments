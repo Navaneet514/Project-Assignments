{
 "cells": [
  {
   "cell_type": "code",
   "execution_count": 6,
   "id": "1a0c05cb",
   "metadata": {},
   "outputs": [
    {
     "name": "stdout",
     "output_type": "stream",
     "text": [
      "Enter First Name: Jake\n",
      "Enter Last Name: Simpson\n",
      "Simpson Jake\n"
     ]
    }
   ],
   "source": [
    "l = []\n",
    "fname = l.append(input(\"Enter First Name: \"))\n",
    "lname = l.append(input(\"Enter Last Name: \"))\n",
    "#print(\"Name befor Reverse: {}\".format(l))\n",
    "rev = reversed(l)\n",
    "name_in_rev = list(rev)\n",
    "print(\" \".join(name_in_rev))"
   ]
  },
  {
   "cell_type": "code",
   "execution_count": null,
   "id": "871d9ee5",
   "metadata": {},
   "outputs": [],
   "source": []
  }
 ],
 "metadata": {
  "kernelspec": {
   "display_name": "Python 3",
   "language": "python",
   "name": "python3"
  },
  "language_info": {
   "codemirror_mode": {
    "name": "ipython",
    "version": 3
   },
   "file_extension": ".py",
   "mimetype": "text/x-python",
   "name": "python",
   "nbconvert_exporter": "python",
   "pygments_lexer": "ipython3",
   "version": "3.8.8"
  }
 },
 "nbformat": 4,
 "nbformat_minor": 5
}
